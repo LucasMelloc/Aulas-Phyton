{
  "nbformat": 4,
  "nbformat_minor": 0,
  "metadata": {
    "colab": {
      "provenance": [],
      "authorship_tag": "ABX9TyMJMsv3IygghHdIiOLwgx67",
      "include_colab_link": true
    },
    "kernelspec": {
      "name": "python3",
      "display_name": "Python 3"
    },
    "language_info": {
      "name": "python"
    }
  },
  "cells": [
    {
      "cell_type": "markdown",
      "metadata": {
        "id": "view-in-github",
        "colab_type": "text"
      },
      "source": [
        "<a href=\"https://colab.research.google.com/github/Luskimc/Aulas-Phyton/blob/main/Estruturas_de_Controle_Phyton.ipynb\" target=\"_parent\"><img src=\"https://colab.research.google.com/assets/colab-badge.svg\" alt=\"Open In Colab\"/></a>"
      ]
    },
    {
      "cell_type": "markdown",
      "source": [
        "# Aula Programação - Variáveis"
      ],
      "metadata": {
        "id": "ZVNISFqCMC34"
      }
    },
    {
      "cell_type": "code",
      "execution_count": null,
      "metadata": {
        "colab": {
          "base_uri": "https://localhost:8080/"
        },
        "id": "O_4Gl2lZLmy7",
        "outputId": "c32e4adf-f54c-4fe1-ca8a-3f11c723a682"
      },
      "outputs": [
        {
          "output_type": "stream",
          "name": "stdout",
          "text": [
            "Olá, pessoas!\n",
            "18\n"
          ]
        }
      ],
      "source": [
        "print('Olá, pessoas!') #Imprimir texto\n",
        "print( 8+10) #Imprimir operação matématica\n",
        "print(8,'10') # Concatenando texto e número"
      ]
    },
    {
      "cell_type": "markdown",
      "source": [],
      "metadata": {
        "id": "zB_p4K_HS3Pd"
      }
    },
    {
      "cell_type": "code",
      "source": [
        "#Sabendo que os operadores matemáticos são # = - / *\n",
        "# Imprima um exemplo de cada operação\n",
        "print(10+10)\n",
        "print(8-2)\n",
        "print(130*3)\n",
        "print(200/2)"
      ],
      "metadata": {
        "colab": {
          "base_uri": "https://localhost:8080/"
        },
        "id": "c7-LLo0TOKHX",
        "outputId": "70e4114f-055f-48f6-ba1e-bb61200a6467"
      },
      "execution_count": null,
      "outputs": [
        {
          "output_type": "stream",
          "name": "stdout",
          "text": [
            "20\n",
            "6\n",
            "390\n",
            "100.0\n"
          ]
        }
      ]
    },
    {
      "cell_type": "code",
      "source": [
        "#Tipos de dados\n",
        "print(type(5)) #tipos inteiros\n",
        "print(type(2.0)) # pontos flutuantes (ou float)\n",
        "print(type('maçâ')) #string (cadeias de caracteres)\n",
        "print(type(5 > 20)) #booleanos (bool)"
      ],
      "metadata": {
        "colab": {
          "base_uri": "https://localhost:8080/"
        },
        "id": "fjDZuysqPP9H",
        "outputId": "55ff1cc7-8f90-4d74-b629-2b65922a2270"
      },
      "execution_count": null,
      "outputs": [
        {
          "output_type": "stream",
          "name": "stdout",
          "text": [
            "<class 'int'>\n",
            "<class 'float'>\n",
            "<class 'str'>\n",
            "<class 'bool'>\n"
          ]
        }
      ]
    },
    {
      "cell_type": "markdown",
      "source": [
        "## Variáveis"
      ],
      "metadata": {
        "id": "pjsVXzSvTC8c"
      }
    },
    {
      "cell_type": "markdown",
      "source": [],
      "metadata": {
        "id": "3Wk_U192TBrL"
      }
    },
    {
      "cell_type": "code",
      "source": [
        "a = 42\n",
        "print(a)\n",
        "a = 35\n",
        "print(a)\n",
        "a = 'tapioca' #Essa troca de tipo de dado, é devido a tipagem do phyton\n",
        "print(a)"
      ],
      "metadata": {
        "colab": {
          "base_uri": "https://localhost:8080/"
        },
        "id": "moDBix3DTN-k",
        "outputId": "65f2a0df-22d7-408b-af71-5dd71bcc7df7"
      },
      "execution_count": null,
      "outputs": [
        {
          "output_type": "stream",
          "name": "stdout",
          "text": [
            "42\n",
            "35\n",
            "tapioca\n"
          ]
        }
      ]
    },
    {
      "cell_type": "code",
      "source": [
        "from posixpath import basename\n",
        "a=10\n",
        "b=20\n",
        "#Façam as 4 operações matemáticas com a e b\n",
        "print(a+b)\n",
        "print(a-b)\n",
        "print(a*b)\n",
        "print(a/b)"
      ],
      "metadata": {
        "colab": {
          "base_uri": "https://localhost:8080/"
        },
        "id": "E7-5JgQUUOTX",
        "outputId": "92d446c4-65ee-4753-f2de-17039c37d147"
      },
      "execution_count": null,
      "outputs": [
        {
          "output_type": "stream",
          "name": "stdout",
          "text": [
            "30\n",
            "-10\n",
            "200\n",
            "0.5\n"
          ]
        }
      ]
    },
    {
      "cell_type": "code",
      "source": [
        "a=25\n",
        "b=33\n",
        "c=12\n",
        "#Algumas expressões\n",
        "print (a*b/c)\n",
        "print ((a+b)/c)\n",
        "print ((a+b)/c)"
      ],
      "metadata": {
        "colab": {
          "base_uri": "https://localhost:8080/"
        },
        "id": "-wnRFzVHVpEE",
        "outputId": "cad40288-b056-4873-95f0-18630ff5c7f6"
      },
      "execution_count": null,
      "outputs": [
        {
          "output_type": "stream",
          "name": "stdout",
          "text": [
            "68.75\n"
          ]
        }
      ]
    },
    {
      "cell_type": "code",
      "source": [
        "#Crie três variaveis para receber as notas de um aluno\n",
        "#o algoritmo deve retornar a média do aluno\n"
      ],
      "metadata": {
        "id": "xPvlOUeCWiT9"
      },
      "execution_count": null,
      "outputs": []
    },
    {
      "cell_type": "code",
      "source": [
        "nota1=8 #Entrada\n",
        "nota2=3\n",
        "nota3=9\n",
        "media = (nota1+nota2+nota3)/3 #processamento\n",
        "print(media) #saida"
      ],
      "metadata": {
        "colab": {
          "base_uri": "https://localhost:8080/"
        },
        "id": "Hq6YAMdtXVrY",
        "outputId": "6ffa1190-0d21-45e6-8733-41302857af34"
      },
      "execution_count": null,
      "outputs": [
        {
          "output_type": "stream",
          "name": "stdout",
          "text": [
            "6.666666666666667\n"
          ]
        }
      ]
    },
    {
      "cell_type": "code",
      "source": [
        "nome= input('Digite seu nome:')\n",
        "print('Olá,'+nome)"
      ],
      "metadata": {
        "colab": {
          "base_uri": "https://localhost:8080/"
        },
        "id": "ow3-jNEgYWw6",
        "outputId": "2f139bcd-6d14-4130-8360-275814be4753"
      },
      "execution_count": null,
      "outputs": [
        {
          "output_type": "stream",
          "name": "stdout",
          "text": [
            "Digite seu nome:lucas\n",
            "Olá,lucas\n"
          ]
        }
      ]
    },
    {
      "cell_type": "code",
      "source": [
        "# recebe a idade de uma pessoa e multiplica por 3\n",
        "idade = int(input('digite sua idade'))\n",
        "print (idade *3)"
      ],
      "metadata": {
        "colab": {
          "base_uri": "https://localhost:8080/"
        },
        "id": "XModCHePZQO_",
        "outputId": "9b750780-3552-4f8d-d22a-007d681fa3fe"
      },
      "execution_count": null,
      "outputs": [
        {
          "output_type": "stream",
          "name": "stdout",
          "text": [
            "digite sua idade3\n",
            "9\n"
          ]
        }
      ]
    },
    {
      "cell_type": "markdown",
      "source": [],
      "metadata": {
        "id": "EpAVmLmETNN9"
      }
    },
    {
      "cell_type": "code",
      "source": [
        "#Recebe o raio de um circulo e calcula a sua área\n",
        "#area = pi vezes o raio ao quadrado\n",
        "raio =int(input('Digite o raio do circulo'))\n",
        "area= 3.14*(raio*raio)\n",
        "print(area)\n"
      ],
      "metadata": {
        "colab": {
          "base_uri": "https://localhost:8080/"
        },
        "id": "WN6-K60WaoCc",
        "outputId": "71583343-0aa3-4bbb-97c8-acb6253b7bb3"
      },
      "execution_count": null,
      "outputs": [
        {
          "output_type": "stream",
          "name": "stdout",
          "text": [
            "Digite o raio do circulo5\n",
            "78.5\n"
          ]
        }
      ]
    },
    {
      "cell_type": "code",
      "source": [
        "#reatoração\n",
        "import math\n",
        "raio= int(input('Digite o raio do circulo'))\n",
        "area=math.pi*(raio**2)\n",
        "print(area)\n",
        "print(f\"{area:.2f}\")"
      ],
      "metadata": {
        "colab": {
          "base_uri": "https://localhost:8080/"
        },
        "id": "JV3G9r2zdB-3",
        "outputId": "3c9ab07a-d8d7-4821-b6a9-0e5ae801aade"
      },
      "execution_count": null,
      "outputs": [
        {
          "output_type": "stream",
          "name": "stdout",
          "text": [
            "Digite o raio do circulo360\n",
            "407150.40790523717\n",
            "407150.41\n"
          ]
        }
      ]
    },
    {
      "cell_type": "code",
      "source": [
        "num1 = float(input('Insira um numero: '))\n",
        "num2 = float(input('Insira um numero: '))\n",
        "\n",
        "print (num1 + num2)\n",
        "print (num1 % num2)"
      ],
      "metadata": {
        "colab": {
          "base_uri": "https://localhost:8080/"
        },
        "id": "sHgYh2ZfI3py",
        "outputId": "f620914f-3b5e-4ba5-de93-09a1cdb7a005"
      },
      "execution_count": null,
      "outputs": [
        {
          "output_type": "stream",
          "name": "stdout",
          "text": [
            "30\n",
            "-10\n",
            "200\n",
            "0.5\n"
          ]
        }
      ]
    },
    {
      "cell_type": "code",
      "source": [
        "peso = float(input(\"Digite seu peso em kg: \"))\n",
        "altura = float(input(\"Digite sua altura em metros: \"))\n",
        "\n",
        "IMC = peso / altura**2\n",
        "print(IMC)\n",
        "\n",
        "#print (round(IMC, 2)) casas decimais"
      ],
      "metadata": {
        "colab": {
          "base_uri": "https://localhost:8080/"
        },
        "id": "YxAcez59JjlK",
        "outputId": "75bfbc11-dc24-4068-abdc-9c67e68bf103"
      },
      "execution_count": null,
      "outputs": [
        {
          "output_type": "stream",
          "name": "stdout",
          "text": [
            "Digite seu peso em kg: 58\n",
            "Digite sua altura em metros: 1.75\n",
            "18.93877551020408\n"
          ]
        }
      ]
    },
    {
      "cell_type": "markdown",
      "source": [],
      "metadata": {
        "id": "I2i57-xdI2rz"
      }
    },
    {
      "cell_type": "code",
      "source": [
        "nome = input('Coloque o nome: ')\n",
        "rua = input('Nome da rua: ')\n",
        "numero = input ('Numero ')\n",
        "bairro = input('Bairro ')\n",
        "cidade = input('Cidade ')\n",
        "CEP = input('CEP - apenas numeros: ')\n",
        "\n",
        "print(f\"(nome), residente a rua (rua), (numero), (bairro), (cidade), (CEP)\")"
      ],
      "metadata": {
        "colab": {
          "base_uri": "https://localhost:8080/"
        },
        "id": "k8DStW9ZOdWo",
        "outputId": "b98bfdd8-7dc0-4186-8394-42c60a52969c"
      },
      "execution_count": null,
      "outputs": [
        {
          "output_type": "stream",
          "name": "stdout",
          "text": [
            "Coloque o nome: lucas\n",
            "Nome da rua: rua sai pedro\n",
            "Numero 100\n",
            "Bairro mandaca\n",
            "Cidade joao pessoa \n",
            "CEP - apenas numeros: 594442\n",
            "(nome), residente a rua (rua), (numero), (bairro), (cidade), (CEP)\n"
          ]
        }
      ]
    },
    {
      "cell_type": "code",
      "source": [
        "temp = float(input('Qual a temperatura '))\n",
        "\n",
        "tempFah = (temp * 9/5) +32\n",
        "print(tempFah)"
      ],
      "metadata": {
        "colab": {
          "base_uri": "https://localhost:8080/"
        },
        "id": "__yiAc-iQI3s",
        "outputId": "574cf0cc-ec52-4861-d6d2-83520e52aa53"
      },
      "execution_count": null,
      "outputs": [
        {
          "output_type": "stream",
          "name": "stdout",
          "text": [
            "Qual a temperatura 66\n",
            "150.8\n"
          ]
        }
      ]
    },
    {
      "cell_type": "code",
      "source": [
        "#Recebe a idade do individuo e informa se ele é maior de idade\n",
        "\n",
        "idade = 20\n",
        "\n",
        "if idade > 18:\n",
        "   print('E maior de idade')"
      ],
      "metadata": {
        "id": "mFQQb8JHSYO_"
      },
      "execution_count": null,
      "outputs": []
    },
    {
      "cell_type": "code",
      "source": [
        "#Recebe a idade do individuo e informa se ele é maior de idade\n",
        "\n",
        "idade = 17\n",
        "\n",
        "if idade > 18:\n",
        "   print('E maior de idade')\n",
        "else:\n",
        "  print('É mior de idade')"
      ],
      "metadata": {
        "colab": {
          "base_uri": "https://localhost:8080/"
        },
        "id": "YE0Sc1qlU2B6",
        "outputId": "549cffc7-ab41-42c6-e6ea-e4cefb0c42fb"
      },
      "execution_count": null,
      "outputs": [
        {
          "output_type": "stream",
          "name": "stdout",
          "text": [
            "É mior de idade\n"
          ]
        }
      ]
    },
    {
      "cell_type": "code",
      "source": [
        "idade = 5\n",
        "\n",
        "if idade >= 60:\n",
        "  print('É idoso')\n",
        "elif idade >= 35:\n",
        "  print('Meia idade!')\n",
        "elif idade  >= 18:\n",
        "  print('Adulto!')\n",
        "else:\n",
        "  print ('Tu soi de menor!')"
      ],
      "metadata": {
        "colab": {
          "base_uri": "https://localhost:8080/"
        },
        "id": "e4radVB9WJu7",
        "outputId": "82bb43a7-a089-48d1-a4b7-c86bb94f79f3"
      },
      "execution_count": null,
      "outputs": [
        {
          "output_type": "stream",
          "name": "stdout",
          "text": [
            "Tu soi de menor!\n"
          ]
        }
      ]
    },
    {
      "cell_type": "code",
      "source": [
        "\n",
        "valor = float(input(\"Digite o valor total da compra: \"))\n",
        "if valor >= 100:\n",
        "    print('Sem desconto')\n",
        "elif valor <=500 :\n",
        "  print(valor*0.1)\n",
        "elif valor compra <= 1000:\n",
        "  print (valor compra * 0.2)\n",
        "\n",
        "\n",
        "\n",
        "\n"
      ],
      "metadata": {
        "colab": {
          "base_uri": "https://localhost:8080/"
        },
        "id": "Ec42ROUmY7YB",
        "outputId": "7b14d2c2-eae5-4ec5-c2cd-17c0e6524eef"
      },
      "execution_count": null,
      "outputs": [
        {
          "name": "stdout",
          "output_type": "stream",
          "text": [
            "Digite o valor total da compra: 101\n"
          ]
        }
      ]
    },
    {
      "cell_type": "code",
      "source": [
        "#Pergunta a idade ao usuario e se tem CNH, caso satisfaça as duas condiçoes\n",
        "\n",
        "idade = 20\n",
        "temCNH = True\n",
        "\n",
        "if idade > 18:\n",
        "  if temCNH:\n",
        "     print('Pode dirigir')\n",
        "  else:\n",
        "    print ('Sem Habilitação, não pode dirigir!')\n",
        "\n",
        "else:\n",
        "  print('Menor de idade não pode dirigir')"
      ],
      "metadata": {
        "id": "h5viWn5leCfC"
      },
      "execution_count": null,
      "outputs": []
    },
    {
      "cell_type": "code",
      "source": [
        "numero = int(input(\"Digite um número inteiro: \"))\n",
        "\n",
        "\n",
        "if numero % 2 == 0:\n",
        "    print(numero, \"é um número par.\")\n",
        "else:\n",
        "    print(numero, \"é um número ímpar.\")"
      ],
      "metadata": {
        "id": "qwyQ_6mGKsHF",
        "outputId": "57718cd5-7f8f-4c97-b995-0dc7c9e9c417",
        "colab": {
          "base_uri": "https://localhost:8080/"
        }
      },
      "execution_count": null,
      "outputs": [
        {
          "output_type": "stream",
          "name": "stdout",
          "text": [
            "Digite um número inteiro: 2\n",
            "2 é um número par.\n"
          ]
        }
      ]
    },
    {
      "cell_type": "code",
      "source": [],
      "metadata": {
        "id": "EDlZY9B5O9Kw"
      },
      "execution_count": null,
      "outputs": []
    },
    {
      "cell_type": "code",
      "source": [
        "num1 = int(input('Diigite um numero:'))\n",
        "num2 = int(input('Digite outro numero:'))\n",
        "\n",
        "if num1 > num2:\n",
        "  print(f'O número {num1} é maior')\n",
        "elif num1 < num2:\n",
        "  print(f'O número {num2} é maior')\n",
        "else:\n",
        "  print('Eles são iguais!')"
      ],
      "metadata": {
        "id": "6uPx9Ae-PMIh",
        "outputId": "8b5b5d39-1e81-45a1-f915-472403713743",
        "colab": {
          "base_uri": "https://localhost:8080/"
        }
      },
      "execution_count": null,
      "outputs": [
        {
          "output_type": "stream",
          "name": "stdout",
          "text": [
            "Diigite um numero:2\n",
            "Digite outro numero:2\n",
            "Eles são iguais!\n"
          ]
        }
      ]
    },
    {
      "cell_type": "code",
      "source": [
        "#Contador com for\n",
        "for numero in range(1, 11):\n",
        "  print(numero)"
      ],
      "metadata": {
        "id": "hWZ4rOt1d77A"
      },
      "execution_count": null,
      "outputs": []
    },
    {
      "cell_type": "code",
      "source": [
        "#Contagem regressiva\n",
        "for numero in range(10, 0, -1):\n",
        "  print(numero)"
      ],
      "metadata": {
        "id": "yvc1mf8leby4"
      },
      "execution_count": null,
      "outputs": []
    },
    {
      "cell_type": "code",
      "source": [
        "soma = o\n",
        "for numero in range(1, 11):\n",
        "  if num % 2 != 0:\n",
        "    print(num)"
      ],
      "metadata": {
        "id": "kqCiikMBfgsX"
      },
      "execution_count": null,
      "outputs": []
    },
    {
      "cell_type": "code",
      "source": [
        "#BONUS - trabalhando com números randomicos\n",
        "\n",
        "import random\n",
        "numero = random.randint(0, 100)\n",
        "print(numero)"
      ],
      "metadata": {
        "id": "OhOrKWqOiZgg"
      },
      "execution_count": null,
      "outputs": []
    }
  ]
}