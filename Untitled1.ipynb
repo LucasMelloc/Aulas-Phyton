{
  "nbformat": 4,
  "nbformat_minor": 0,
  "metadata": {
    "colab": {
      "provenance": [],
      "authorship_tag": "ABX9TyOm0whn4+uX2RRj1cmCirhp",
      "include_colab_link": true
    },
    "kernelspec": {
      "name": "python3",
      "display_name": "Python 3"
    },
    "language_info": {
      "name": "python"
    }
  },
  "cells": [
    {
      "cell_type": "markdown",
      "metadata": {
        "id": "view-in-github",
        "colab_type": "text"
      },
      "source": [
        "<a href=\"https://colab.research.google.com/github/LucasMelloc/Aulas-Phyton/blob/main/Untitled1.ipynb\" target=\"_parent\"><img src=\"https://colab.research.google.com/assets/colab-badge.svg\" alt=\"Open In Colab\"/></a>"
      ]
    },
    {
      "cell_type": "code",
      "execution_count": null,
      "metadata": {
        "id": "OlYwaOPTchNj"
      },
      "outputs": [],
      "source": [
        "#Os dicionarios (dict) em phyton são estruturas de dados mutáveis que armazenam pares de chave-valor.\n",
        "#Eles são ideias para mapeamentos rápidos e eficientes,como bancos de dados simples ou configurações.\n"
      ]
    },
    {
      "cell_type": "code",
      "source": [
        "aluno = {\n",
        "    \"nome\": \"Juca\",\n",
        "    \"RA\" : \"123456789\",\n",
        "    \"Data_Nascimen\" : \"10/10/1999\",\n",
        "    \"Telefones\" : [83988632147, 85988766776]\n",
        " }\n",
        ""
      ],
      "metadata": {
        "id": "Wq2QBmwjdTVw"
      },
      "execution_count": 6,
      "outputs": []
    },
    {
      "cell_type": "code",
      "source": [
        "dicionario_vazio = {}\n",
        "dicionario = {\n",
        "    \"nome\": \"João\",\n",
        "    \"idade\": 25\n",
        " }\n",
        "dicionario_misto = {1: \"a\", True: \"b\"}\n"
      ],
      "metadata": {
        "id": "E9MaUbX6eHL6"
      },
      "execution_count": 7,
      "outputs": []
    },
    {
      "cell_type": "code",
      "source": [
        "aluno = {\n",
        "    \"nome\": \"Lucas\",\n",
        "    \"RA\": \"123456\",\n",
        "    \"Telefones\": [\"11-99999-9999\", \"11-98888-8888\"]\n",
        "}\n",
        "\n",
        "print(aluno[\"nome\"])          # Saída: Lucas\n",
        "print(aluno[\"RA\"])            # Saída: 123456\n",
        "print(aluno[\"Telefones\"])     # Saída: ['11-99999-9999', '11-98888-8888']\n",
        "print(aluno[\"Telefones\"][0])  # Saída: 11-99999-9999\n",
        "\n"
      ],
      "metadata": {
        "colab": {
          "base_uri": "https://localhost:8080/"
        },
        "id": "iyNV_8qbgZal",
        "outputId": "7b37d141-a0ac-4541-a460-62065a398b02"
      },
      "execution_count": 5,
      "outputs": [
        {
          "output_type": "stream",
          "name": "stdout",
          "text": [
            "Lucas\n",
            "123456\n",
            "['11-99999-9999', '11-98888-8888']\n",
            "11-99999-9999\n"
          ]
        }
      ]
    },
    {
      "cell_type": "code",
      "source": [
        "livro = {\n",
        "    \"título\": \"bad\",\n",
        "    \"autor\" : \"breaking\",\n",
        "    \"Ano publicado\" : \"1999\",\n",
        "\n",
        "}"
      ],
      "metadata": {
        "id": "2-qfrklOhIc_"
      },
      "execution_count": 10,
      "outputs": []
    },
    {
      "cell_type": "code",
      "source": [
        "print(aluno[\"nome\"])\n",
        "print(aluno.get(\"endereco\"))\n",
        "print(aluno.get(\"endereco\", \"Não tem endereco\"))\n"
      ],
      "metadata": {
        "colab": {
          "base_uri": "https://localhost:8080/"
        },
        "id": "P0-eX4twj2Vh",
        "outputId": "ea3a72a9-2c74-40b8-c758-b83159ef8966"
      },
      "execution_count": 11,
      "outputs": [
        {
          "output_type": "stream",
          "name": "stdout",
          "text": [
            "Juca\n",
            "None\n",
            "Não tem endereco\n"
          ]
        }
      ]
    },
    {
      "cell_type": "code",
      "source": [
        "aluno[\"RA\"]= \"12345\"\n",
        "aluno[\"curso\"] = \"ADS\"\n",
        "print(aluno)\n",
        "aluno.get(\"curso\")"
      ],
      "metadata": {
        "colab": {
          "base_uri": "https://localhost:8080/",
          "height": 53
        },
        "id": "dPlYs6_4ktmX",
        "outputId": "2bd62fcf-229c-4160-b970-92783cde48e4"
      },
      "execution_count": 13,
      "outputs": [
        {
          "output_type": "stream",
          "name": "stdout",
          "text": [
            "{'nome': 'Juca', 'RA': '12345', 'Data_Nascimen': '10/10/1999', 'curso': 'ADS'}\n"
          ]
        },
        {
          "output_type": "execute_result",
          "data": {
            "text/plain": [
              "'ADS'"
            ],
            "application/vnd.google.colaboratory.intrinsic+json": {
              "type": "string"
            }
          },
          "metadata": {},
          "execution_count": 13
        }
      ]
    },
    {
      "cell_type": "code",
      "source": [
        "del aluno[\"curso\"]\n",
        "print(aluno)\n",
        "#del remove pela chave, com erro se não existir"
      ],
      "metadata": {
        "id": "gOw6wrP3mpjN"
      },
      "execution_count": null,
      "outputs": []
    },
    {
      "cell_type": "code",
      "source": [
        "aluno.pop(\"curso\", 0)\n",
        "print(aluno)\n",
        "#pop() (remove o valor, pode defininir padrão)"
      ],
      "metadata": {
        "colab": {
          "base_uri": "https://localhost:8080/"
        },
        "id": "gOktw37PoLON",
        "outputId": "264ae3f7-5657-485c-923f-ecaff47f238e"
      },
      "execution_count": 7,
      "outputs": [
        {
          "output_type": "stream",
          "name": "stdout",
          "text": [
            "{'nome': 'Juca', 'RA': '123456789', 'Data_Nascimen': '10/10/1999', 'Telefones': [83988632147, 85988766776]}\n"
          ]
        }
      ]
    },
    {
      "cell_type": "code",
      "source": [
        "item = aluno.popitem()\n",
        "print(item)\n",
        "#popitem()(remove e retorna o ultimo item selecionado)"
      ],
      "metadata": {
        "colab": {
          "base_uri": "https://localhost:8080/"
        },
        "id": "7ZVY_MpPoR10",
        "outputId": "78c7fc38-6394-43d4-acd2-f16db2d7c0d5"
      },
      "execution_count": 8,
      "outputs": [
        {
          "output_type": "stream",
          "name": "stdout",
          "text": [
            "('Telefones', [83988632147, 85988766776])\n"
          ]
        }
      ]
    },
    {
      "cell_type": "code",
      "source": [
        "aluno.clear()\n",
        "print(aluno)"
      ],
      "metadata": {
        "colab": {
          "base_uri": "https://localhost:8080/"
        },
        "id": "hp5QMXPxoYm8",
        "outputId": "82a27433-b804-4967-be9c-51f0e73f4497"
      },
      "execution_count": 14,
      "outputs": [
        {
          "output_type": "stream",
          "name": "stdout",
          "text": [
            "{}\n"
          ]
        }
      ]
    },
    {
      "cell_type": "code",
      "source": [
        "\n",
        "\n",
        "# Verificar chaves e valores\n",
        "\n",
        "dados = {\n",
        "    \"nome\": \"Pedro\",\n",
        "    \"idade\": 35\n",
        "}\n",
        "\n",
        "# Verificar se a chave existe\n",
        "print(\"nome\" in dados)        # Saída: True\n",
        "print(\"telefone\" in dados)    # Saída: False\n",
        "\n",
        "# Verificar se o valor existe\n",
        "print(\"Pedro\" in dados.values())  # Saída: True\n"
      ],
      "metadata": {
        "colab": {
          "base_uri": "https://localhost:8080/"
        },
        "id": "SMI2FOjypf8c",
        "outputId": "8c0673ab-8cbc-417c-8696-f84261796eb1"
      },
      "execution_count": 2,
      "outputs": [
        {
          "output_type": "stream",
          "name": "stdout",
          "text": [
            "True\n",
            "False\n",
            "True\n"
          ]
        }
      ]
    },
    {
      "cell_type": "code",
      "source": [
        "#Percorrer chaves\n",
        "for chave in dados.keys():\n",
        "  print(chave)# Saída:nome,idade\n",
        ""
      ],
      "metadata": {
        "id": "-sKt5xQppf0s"
      },
      "execution_count": null,
      "outputs": []
    },
    {
      "cell_type": "code",
      "source": [
        "#Percorrer valores\n",
        "for valor in dados.values():\n",
        "  print (valor) #Saída: Pedro, 35\n"
      ],
      "metadata": {
        "id": "ReQMcA17peY-"
      },
      "execution_count": null,
      "outputs": []
    },
    {
      "cell_type": "code",
      "source": [
        "#Percorrer chaves e valores (itens())\n",
        "for chave< valor in dados.items():\n",
        "  print(f\"{chave}: {valor}\")"
      ],
      "metadata": {
        "id": "uBlpNG7zrLSZ"
      },
      "execution_count": null,
      "outputs": []
    },
    {
      "cell_type": "code",
      "source": [],
      "metadata": {
        "id": "LNxeoVxQt0ll"
      },
      "execution_count": null,
      "outputs": []
    }
  ]
}