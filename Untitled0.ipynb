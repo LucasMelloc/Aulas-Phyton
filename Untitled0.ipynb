{
  "nbformat": 4,
  "nbformat_minor": 0,
  "metadata": {
    "colab": {
      "provenance": [],
      "authorship_tag": "ABX9TyNjjVgvZRx/0VwLlKMW0kIR",
      "include_colab_link": true
    },
    "kernelspec": {
      "name": "python3",
      "display_name": "Python 3"
    },
    "language_info": {
      "name": "python"
    }
  },
  "cells": [
    {
      "cell_type": "markdown",
      "metadata": {
        "id": "view-in-github",
        "colab_type": "text"
      },
      "source": [
        "<a href=\"https://colab.research.google.com/github/LucasMelloc/Aulas-Phyton/blob/main/Untitled0.ipynb\" target=\"_parent\"><img src=\"https://colab.research.google.com/assets/colab-badge.svg\" alt=\"Open In Colab\"/></a>"
      ]
    },
    {
      "cell_type": "code",
      "execution_count": null,
      "metadata": {
        "id": "QWqR3ToOS3ie"
      },
      "outputs": [],
      "source": [
        "#Imprimir lista\n",
        "frutas = ['banana', 'maça', 'limao']\n",
        "print(frutas)\n"
      ]
    },
    {
      "cell_type": "code",
      "source": [
        "#identifcar o tamanho de uma mista len (lista)\n",
        "print(len(frutas))"
      ],
      "metadata": {
        "id": "eNgWLar9TE2V"
      },
      "execution_count": null,
      "outputs": []
    },
    {
      "cell_type": "code",
      "source": [
        "# Count() - quantas vezes um valor aparece\n",
        "frutas = ['maça', 'banana', 'laranja', 'laranja', 'laranja', 'laranja','laranja',]\n",
        "print(frutas.count('laranja'))"
      ],
      "metadata": {
        "id": "9Vm3j153TP2z"
      },
      "execution_count": null,
      "outputs": []
    },
    {
      "cell_type": "code",
      "source": [
        "#Imprimir elementos da lista pelo índice\n",
        "carros = ['gol', 'uno', 'fiesta', 'lada', 'marajo', 'voyage', 'santana']\n",
        "\n",
        "print(carros[0]) #gol\n",
        "print(carros[1]) #uno\n",
        "print(carros[2]) #fiesta\n",
        "print(carros[-1]) #santana\n",
        "print(carros[2:5]) #slice do índice 2 ao índice 4\n",
        "print(carros[:4]) #slice até o indice 3\n",
        "print(carros[2:]) #slice a partir do indice 2\n",
        "#print(carros[7]) OUT OF INDEX"
      ],
      "metadata": {
        "colab": {
          "base_uri": "https://localhost:8080/"
        },
        "id": "kuSPJPxZT8yK",
        "outputId": "1dbc831d-a239-4a20-8425-b31f41900686"
      },
      "execution_count": null,
      "outputs": [
        {
          "output_type": "stream",
          "name": "stdout",
          "text": [
            "gol\n",
            "uno\n",
            "fiesta\n",
            "santana\n",
            "['fiesta', 'lada', 'marajo']\n",
            "['gol', 'uno', 'fiesta', 'lada']\n",
            "['fiesta', 'lada', 'marajo', 'voyage', 'santana']\n"
          ]
        }
      ]
    },
    {
      "cell_type": "code",
      "source": [
        "#Adicionar elementos em uma lista  lista.append('elemento)\n",
        "\n",
        "frutas.append('goiaba')\n",
        "print(frutas)"
      ],
      "metadata": {
        "id": "BBXNnhKDVQ-e"
      },
      "execution_count": null,
      "outputs": []
    },
    {
      "cell_type": "code",
      "source": [
        "#Faça um código que pede que o usuário digite frutas e\n",
        "#Insere frutas na lista\n",
        "\n",
        "frutas = input('Por favor insira uma frutas: ')\n",
        "frutas.append(frutas)\n",
        "print(frutas)"
      ],
      "metadata": {
        "id": "eUPCFT84W21f"
      },
      "execution_count": null,
      "outputs": []
    },
    {
      "cell_type": "code",
      "source": [
        "#Faça um laço o qual solicita ao usúario que digite\n",
        "#o nome de um carro para inseri-lo na lista\n",
        "#ele para quando o usuário digitar o número 0.\n",
        "#Ao final, imprime a lista e o seu tamanho.\n",
        "\n",
        "carros = []\n",
        "\n",
        "carro = input('Digite o carro ')\n",
        "\n",
        "while carro != '0':\n",
        "    carros.append(carro)\n",
        "    carro = input('Digite o carro:' )\n",
        "print(carros)\n",
        "print(len(carros))\n"
      ],
      "metadata": {
        "colab": {
          "base_uri": "https://localhost:8080/"
        },
        "id": "mXsSuRFlYOtr",
        "outputId": "c2ba31c6-c097-4369-8016-93208ed5dcf2"
      },
      "execution_count": null,
      "outputs": [
        {
          "output_type": "stream",
          "name": "stdout",
          "text": [
            "Digite o carro uno\n",
            "Digite o carro:corsa\n",
            "Digite o carro:0\n",
            "['uno', 'corsa']\n",
            "2\n"
          ]
        }
      ]
    },
    {
      "cell_type": "code",
      "source": [
        "numero = int (input('Digite um número: '))\n",
        "if numero in lista:\n",
        "  print(lista.count(numero))\n",
        "else:\n",
        "  print('numero não existe na lista')"
      ],
      "metadata": {
        "id": "CpogMCj8bsfP"
      },
      "execution_count": null,
      "outputs": []
    },
    {
      "cell_type": "code",
      "source": [
        "#pop ()\n",
        "carros.pop(3)\n",
        "print(carros)"
      ],
      "metadata": {
        "id": "pf0XMB13eat_"
      },
      "execution_count": null,
      "outputs": []
    },
    {
      "cell_type": "code",
      "source": [
        "#pop pelo indice\n",
        "lista = [\"maça\", \"banana\", \"laranja\"]\n",
        "indice = lista.index(\"banana\") #Encontra o índice de \"banana\"\n",
        "lista.poop(indice) #Remove pelo índice\n",
        "print(lista) #Saida: ['maçã', 'laranja']\n"
      ],
      "metadata": {
        "id": "gH7rTknuehyQ"
      },
      "execution_count": null,
      "outputs": []
    },
    {
      "cell_type": "code",
      "source": [
        "#del list[index]\n",
        "nums = [4, 5, 3, 2, 6, 8]\n",
        "\n",
        "del nums[3]\n",
        "print(nums)"
      ],
      "metadata": {
        "id": "3aL6lw-mfF_4"
      },
      "execution_count": null,
      "outputs": []
    },
    {
      "cell_type": "code",
      "source": [
        "lista = ['jaca', 'melão', 'manga', 'graviola', 'jaca', 'maca', 'banana', 'banana', 'jaca',]\n",
        "\n",
        "fruta_remover = 'jaca'\n",
        "\n",
        "lista = [x for x in lista if x != fruta_remover]\n",
        "\n",
        "print(lista)"
      ],
      "metadata": {
        "id": "ie1VfEjZf4zN"
      },
      "execution_count": null,
      "outputs": []
    },
    {
      "cell_type": "code",
      "source": [
        "[notas = 6, 8 ,5 4, 7, 7, 9, 3, 6,]\n",
        "\n"
      ],
      "metadata": {
        "id": "AUvI7OqKhH0z"
      },
      "execution_count": null,
      "outputs": []
    },
    {
      "cell_type": "code",
      "source": [
        "notas = [x for x in notas if x >= 6]\n",
        "print(notas)"
      ],
      "metadata": {
        "id": "ELS4TmmSinLi"
      },
      "execution_count": null,
      "outputs": []
    },
    {
      "cell_type": "code",
      "source": [
        "tarefas = []\n",
        "\n",
        "def add_tarefa():\n",
        "  tarefa = input(\"Digite tarefa\")\n",
        "  tarefas.append(tarefa)\n",
        "  print(tarefa \"{tarefa}\" adicionada'!)"
      ],
      "metadata": {
        "id": "nYDVyGyZjhm5"
      },
      "execution_count": null,
      "outputs": []
    },
    {
      "cell_type": "code",
      "source": [
        "notas = [8, 9, 4, 3, 6,]\n",
        "maiores = [nota for nota in notas if nota > 7]\n",
        "print(maiores)"
      ],
      "metadata": {
        "colab": {
          "base_uri": "https://localhost:8080/"
        },
        "id": "Lju58cwcaYcN",
        "outputId": "829f53a0-b711-4ad7-aa93-e51bec57a6a6"
      },
      "execution_count": null,
      "outputs": [
        {
          "output_type": "stream",
          "name": "stdout",
          "text": [
            "[8, 9]\n"
          ]
        }
      ]
    },
    {
      "cell_type": "code",
      "source": [
        "notas = [8, 9, 4 ,3, 6]\n",
        "menores = [nota for nota in notas if nota <5]\n",
        "print(menores)"
      ],
      "metadata": {
        "colab": {
          "base_uri": "https://localhost:8080/"
        },
        "id": "nKTopwzpa7yM",
        "outputId": "79ddcf51-2d68-49a8-d614-a850764cee3d"
      },
      "execution_count": null,
      "outputs": [
        {
          "output_type": "stream",
          "name": "stdout",
          "text": [
            "[4, 3]\n"
          ]
        }
      ]
    },
    {
      "cell_type": "code",
      "source": [
        "#Criar umas lista com os quadrados dos números de 0 a 9\n",
        "quadrados = [x**2  for x in range (10)]\n",
        "print(quadrados)"
      ],
      "metadata": {
        "colab": {
          "base_uri": "https://localhost:8080/"
        },
        "id": "h9nwttkhburf",
        "outputId": "1db82d08-8088-491e-d53c-0a4370a182c6"
      },
      "execution_count": null,
      "outputs": [
        {
          "output_type": "stream",
          "name": "stdout",
          "text": [
            "[0, 1, 4, 9, 16, 25, 36, 49, 64, 81]\n"
          ]
        }
      ]
    },
    {
      "cell_type": "code",
      "source": [
        "#Strings\n",
        "nome = 'Lucas'\n",
        "for letra in nome:\n",
        "  print(letra)\n",
        "\n",
        "  print(len(nome)) #Imprime o tamanho da string\n",
        "  print(nome.upper()) #Todos os caracteres maiúsculos\n",
        "  print(nome.lower()) #Todos os caracteres minusculos"
      ],
      "metadata": {
        "id": "CRNlMnQkc5IQ"
      },
      "execution_count": null,
      "outputs": []
    },
    {
      "cell_type": "code",
      "source": [
        "nomes = ['João', 'Ana', 'Epaminondas', 'Godofredo', 'Lair', 'Setembrino' ]\n",
        "\n",
        "maisDe5 = [nome for nome in nomes if len(nome) > 4]\n",
        "print(maisDe5)\n"
      ],
      "metadata": {
        "colab": {
          "base_uri": "https://localhost:8080/"
        },
        "id": "I9cDu2-ne34-",
        "outputId": "62dc08a0-c298-4fdf-8d22-8e7519b5736d"
      },
      "execution_count": null,
      "outputs": [
        {
          "output_type": "stream",
          "name": "stdout",
          "text": [
            "['Epaminondas', 'Godofredo', 'Setembrino']\n"
          ]
        }
      ]
    },
    {
      "cell_type": "code",
      "source": [
        "#Caixa alta os nomes com 4 letras ou menos\n",
        "caixaALTA = [nome.upper() for nome in nomes if len(nome) < 5]\n",
        "print(caixaALTA)"
      ],
      "metadata": {
        "colab": {
          "base_uri": "https://localhost:8080/"
        },
        "id": "KwgRFBsGhFsX",
        "outputId": "22f78f88-4a74-44ab-a877-84b4514feced"
      },
      "execution_count": null,
      "outputs": [
        {
          "output_type": "stream",
          "name": "stdout",
          "text": [
            "['JOÃO', 'ANA', 'LAIR']\n"
          ]
        }
      ]
    },
    {
      "cell_type": "code",
      "source": [
        "#Atribiur 2 pontos as notas menores que 5\n",
        "\n",
        "notas =[9.0, 4.5, 2.3, 6.0, 8.2, 5.3]\n",
        "doispontos = [nota+2  for nota in notas if nota < 5]\n",
        "print(doispontos)\n",
        "\n"
      ],
      "metadata": {
        "colab": {
          "base_uri": "https://localhost:8080/"
        },
        "id": "H0MezIoXiKs_",
        "outputId": "25dcde42-d6c0-4db1-802e-3c32348792da"
      },
      "execution_count": null,
      "outputs": [
        {
          "output_type": "stream",
          "name": "stdout",
          "text": [
            "[6.5, 4.3]\n"
          ]
        }
      ]
    },
    {
      "cell_type": "code",
      "source": [
        "soma = lambda a, b : a+b\n",
        "print(soma(10,5))"
      ],
      "metadata": {
        "colab": {
          "base_uri": "https://localhost:8080/"
        },
        "id": "Y5L6SXs8lZXC",
        "outputId": "8520553b-89f5-449f-bdf2-6e8a840c9a5a"
      },
      "execution_count": null,
      "outputs": [
        {
          "output_type": "stream",
          "name": "stdout",
          "text": [
            "15\n"
          ]
        }
      ]
    },
    {
      "cell_type": "code",
      "source": [
        "#list(map(funçãolabda, lista))\n",
        "numeros = [2,3,4,5,6,7,]\n",
        "quadrados = list(map (lambda x: x**2, numeros))\n",
        "print(quadrados)"
      ],
      "metadata": {
        "colab": {
          "base_uri": "https://localhost:8080/"
        },
        "id": "1IiGcZcolkos",
        "outputId": "9dd0bfce-3337-4f9f-a09a-76acee2844f5"
      },
      "execution_count": null,
      "outputs": [
        {
          "output_type": "stream",
          "name": "stdout",
          "text": [
            "[4, 9, 16, 25, 36, 49]\n"
          ]
        }
      ]
    },
    {
      "cell_type": "code",
      "source": [
        "#Crie uma lista com o dobro de cada elemento\n",
        "dobro = list(map(lambda x : x*2, numeros))\n",
        "print(dobro)\n"
      ],
      "metadata": {
        "colab": {
          "base_uri": "https://localhost:8080/"
        },
        "id": "SnjgpHuAnKNv",
        "outputId": "8a02a73e-35c1-475c-e454-f8466b4abb2d"
      },
      "execution_count": null,
      "outputs": [
        {
          "output_type": "stream",
          "name": "stdout",
          "text": [
            "[4, 6, 8, 10, 12, 14]\n"
          ]
        }
      ]
    },
    {
      "cell_type": "code",
      "source": [
        "#Converter uma lista de palavras para letras maiúsculas\n",
        "palavras = ['é', 'Hoke', 'my', 'Consagrated']\n",
        "Upper = list(map(lambda x : x.upper(), palavras))\n",
        "print(Upper)\n",
        "\n"
      ],
      "metadata": {
        "id": "rJNaA3ginZV3"
      },
      "execution_count": null,
      "outputs": []
    },
    {
      "cell_type": "code",
      "source": [
        "#Filtrar apenas palavras com mais de 4 letras\n",
        "nomes = ['Cristiano', 'Alien', 'Ary', 'Bete', 'Já']\n",
        "filtro = list(filter(lambda x: len(x)>4, nomes))\n",
        "print(filtro)\n"
      ],
      "metadata": {
        "colab": {
          "base_uri": "https://localhost:8080/"
        },
        "id": "_1w0SEmppAvd",
        "outputId": "48230f36-2e62-43e1-a390-071cb3a99718"
      },
      "execution_count": null,
      "outputs": [
        {
          "output_type": "stream",
          "name": "stdout",
          "text": [
            "['Cristiano', 'Alien']\n"
          ]
        }
      ]
    },
    {
      "cell_type": "code",
      "source": [],
      "metadata": {
        "id": "b5J2eSfBqmFC"
      },
      "execution_count": null,
      "outputs": []
    },
    {
      "cell_type": "code",
      "source": [
        "#Filtrar numeros maiores que 10\n",
        "\n",
        "numeros = [1, 5, 6, 10, 11, 15]\n",
        "numeros= list (filter(lambda x: x > 10, numeros ))\n",
        "print(numeros)"
      ],
      "metadata": {
        "colab": {
          "base_uri": "https://localhost:8080/"
        },
        "id": "LM43nl-CqcnF",
        "outputId": "29f39818-64b0-4864-fe5e-a883b46c2cc1"
      },
      "execution_count": null,
      "outputs": [
        {
          "output_type": "stream",
          "name": "stdout",
          "text": [
            "[11, 15]\n"
          ]
        }
      ]
    },
    {
      "cell_type": "code",
      "source": [
        "#Dado a lista abaixo :numeros [3,7,2,8,1,4,10]\n",
        "#Responda as seguintes questoes\n",
        "#Dobrar todos os números da lista\n",
        "#Selecionar apenas os números pares\n",
        "#Criar uma nova lista onde os números pares são dobrados e os ímpares permanecem iguais"
      ],
      "metadata": {
        "id": "0f3ihCVzrnvv"
      },
      "execution_count": null,
      "outputs": []
    },
    {
      "cell_type": "code",
      "source": [
        "lista = [3,7,2,8,1,4,10]\n",
        "dobro = list(map(lambda x: x*2, lista ))\n",
        "print(dobro)"
      ],
      "metadata": {
        "colab": {
          "base_uri": "https://localhost:8080/"
        },
        "id": "di0ROqsesGwl",
        "outputId": "c33b3f50-6572-46ac-981e-11124ed6f62b"
      },
      "execution_count": null,
      "outputs": [
        {
          "output_type": "stream",
          "name": "stdout",
          "text": [
            "[6, 14, 4, 16, 2, 8, 20]\n"
          ]
        }
      ]
    },
    {
      "cell_type": "code",
      "source": [
        "pares = list(filter(lambda x : x % 2 == 0 ,numeros ))\n",
        "print(pares)"
      ],
      "metadata": {
        "colab": {
          "base_uri": "https://localhost:8080/"
        },
        "id": "BMz_f4-Gtqvs",
        "outputId": "b0e04227-9b8e-40ca-9096-3cb9469ae5a0"
      },
      "execution_count": null,
      "outputs": [
        {
          "output_type": "stream",
          "name": "stdout",
          "text": [
            "[]\n"
          ]
        }
      ]
    },
    {
      "cell_type": "code",
      "source": [],
      "metadata": {
        "id": "JJLNcQm7vreC"
      },
      "execution_count": null,
      "outputs": []
    }
  ]
}